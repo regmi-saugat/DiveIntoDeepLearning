{
 "cells": [
  {
   "cell_type": "markdown",
   "id": "2a36f16c",
   "metadata": {},
   "source": [
    "**2.2.1 Reading the Dataset**"
   ]
  },
  {
   "cell_type": "code",
   "execution_count": 1,
   "id": "124169b7",
   "metadata": {},
   "outputs": [],
   "source": [
    "import os\n",
    "os.makedirs(os.path.join('..', 'data'), exist_ok=True)\n",
    "data_file = os.path.join('..', 'data', 'house_tiny.csv')\n",
    "with open(data_file, 'w') as f:\n",
    "    f.write('''NumRooms, RoofType, Price\n",
    "NA, NA, 127500\n",
    "2, NA, 106000\n",
    "4, Slate, 178100\n",
    "NA, NA, 140000''')"
   ]
  },
  {
   "cell_type": "code",
   "execution_count": 2,
   "id": "62db3d50",
   "metadata": {},
   "outputs": [
    {
     "name": "stdout",
     "output_type": "stream",
     "text": [
      "   NumRooms  RoofType   Price\n",
      "0       NaN        NA  127500\n",
      "1       2.0        NA  106000\n",
      "2       4.0     Slate  178100\n",
      "3       NaN        NA  140000\n"
     ]
    }
   ],
   "source": [
    "#@ Import the library and load the dataset\n",
    "import pandas as pd\n",
    "\n",
    "data = pd.read_csv(data_file)\n",
    "print(data)"
   ]
  },
  {
   "cell_type": "markdown",
   "id": "b5d209dc",
   "metadata": {},
   "source": [
    "**2.2.2. Data Prepration**"
   ]
  },
  {
   "cell_type": "code",
   "execution_count": 3,
   "id": "483fa531",
   "metadata": {},
   "outputs": [
    {
     "name": "stdout",
     "output_type": "stream",
     "text": [
      "   NumRooms   RoofType_ NA   RoofType_ Slate   RoofType_nan\n",
      "0       NaN              1                 0              0\n",
      "1       2.0              1                 0              0\n",
      "2       4.0              0                 1              0\n",
      "3       NaN              1                 0              0\n"
     ]
    }
   ],
   "source": [
    "#@ Handling the missing data\n",
    "inputs, targets = data.iloc[:, 0:2], data.iloc[:, 2]\n",
    "inputs = pd.get_dummies(inputs, dummy_na=True)\n",
    "print(inputs)"
   ]
  },
  {
   "cell_type": "code",
   "execution_count": 4,
   "id": "20093531",
   "metadata": {},
   "outputs": [
    {
     "name": "stdout",
     "output_type": "stream",
     "text": [
      "   NumRooms   RoofType_ NA   RoofType_ Slate   RoofType_nan\n",
      "0       3.0              1                 0              0\n",
      "1       2.0              1                 0              0\n",
      "2       4.0              0                 1              0\n",
      "3       3.0              1                 0              0\n"
     ]
    }
   ],
   "source": [
    "#@ For missing numerical values\n",
    "inputs = inputs.fillna(inputs.mean())\n",
    "print(inputs)"
   ]
  },
  {
   "cell_type": "markdown",
   "id": "41177d99",
   "metadata": {},
   "source": [
    "**2.2.3 Conversion to the Tensor Format**"
   ]
  },
  {
   "cell_type": "code",
   "execution_count": 5,
   "id": "0a86b334",
   "metadata": {},
   "outputs": [
    {
     "data": {
      "text/plain": [
       "(tensor([[3., 1., 0., 0.],\n",
       "         [2., 1., 0., 0.],\n",
       "         [4., 0., 1., 0.],\n",
       "         [3., 1., 0., 0.]], dtype=torch.float64),\n",
       " tensor([127500, 106000, 178100, 140000]))"
      ]
     },
     "execution_count": 5,
     "metadata": {},
     "output_type": "execute_result"
    }
   ],
   "source": [
    "#@ Loading the converted values into tesor\n",
    "import torch \n",
    "\n",
    "X, y = torch.tensor(inputs.values), torch.tensor(targets.values)\n",
    "X, y"
   ]
  },
  {
   "cell_type": "markdown",
   "id": "df40f90e",
   "metadata": {},
   "source": [
    "**Note:** \n",
    "\n",
    "Real-world datasets are often plagued by outliers, faulty measurements from sensors, and recording errors, which must be addressed before feeding the data into any model. Data visualization tools such as seaborn, Bokeh, or matplotlib can help you to manually inspect the data and develop intuitions about what problems you may need to address."
   ]
  }
 ],
 "metadata": {
  "kernelspec": {
   "display_name": "Python 3 (ipykernel)",
   "language": "python",
   "name": "python3"
  },
  "language_info": {
   "codemirror_mode": {
    "name": "ipython",
    "version": 3
   },
   "file_extension": ".py",
   "mimetype": "text/x-python",
   "name": "python",
   "nbconvert_exporter": "python",
   "pygments_lexer": "ipython3",
   "version": "3.10.6"
  }
 },
 "nbformat": 4,
 "nbformat_minor": 5
}
