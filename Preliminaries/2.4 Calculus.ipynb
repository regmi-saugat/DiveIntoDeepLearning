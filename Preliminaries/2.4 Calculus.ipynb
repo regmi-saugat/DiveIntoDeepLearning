{
 "cells": [
  {
   "cell_type": "markdown",
   "id": "a3438294",
   "metadata": {},
   "source": [
    "**2.4.1 Derivatives and Differentiation**"
   ]
  },
  {
   "cell_type": "code",
   "execution_count": 1,
   "id": "5ff1e6e8",
   "metadata": {},
   "outputs": [],
   "source": [
    "#@ Loading the required libraries\n",
    "%matplotlib inline\n",
    "import numpy as np\n",
    "from matplotlib_inline import backend_inline\n",
    "# from d2l import torch as d2l"
   ]
  },
  {
   "cell_type": "code",
   "execution_count": 2,
   "id": "7f352455",
   "metadata": {},
   "outputs": [],
   "source": [
    "#@ Derivatives and Differentiation\n",
    "def f(x):\n",
    "    return 3 * x ** 2 - 4 * x"
   ]
  }
 ],
 "metadata": {
  "kernelspec": {
   "display_name": "Python 3 (ipykernel)",
   "language": "python",
   "name": "python3"
  },
  "language_info": {
   "codemirror_mode": {
    "name": "ipython",
    "version": 3
   },
   "file_extension": ".py",
   "mimetype": "text/x-python",
   "name": "python",
   "nbconvert_exporter": "python",
   "pygments_lexer": "ipython3",
   "version": "3.10.6"
  }
 },
 "nbformat": 4,
 "nbformat_minor": 5
}
